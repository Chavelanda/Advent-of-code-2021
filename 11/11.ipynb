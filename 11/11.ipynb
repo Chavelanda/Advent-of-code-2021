{
 "cells": [
  {
   "cell_type": "code",
   "execution_count": 17,
   "outputs": [],
   "source": [
    "import numpy as np"
   ],
   "metadata": {
    "collapsed": false,
    "pycharm": {
     "name": "#%%\n"
    }
   }
  },
  {
   "cell_type": "code",
   "execution_count": 34,
   "outputs": [
    {
     "data": {
      "text/plain": "100"
     },
     "execution_count": 34,
     "metadata": {},
     "output_type": "execute_result"
    }
   ],
   "source": [
    "filename = open('input.txt', \"r\")\n",
    "octopus = []\n",
    "gr = filename.readline().strip()\n",
    "while gr:\n",
    "    gr = list(map(int,str(gr)))\n",
    "    octopus.append(gr)\n",
    "    gr = filename.readline().strip()\n",
    "\n",
    "octopus = np.array(octopus, dtype=np.int_)\n",
    "octopus.size"
   ],
   "metadata": {
    "collapsed": false,
    "pycharm": {
     "name": "#%%\n"
    }
   }
  },
  {
   "cell_type": "code",
   "execution_count": 30,
   "outputs": [],
   "source": [
    "def explode(indices, new_indices, o):\n",
    "    for ex in range(len(new_indices[0])):\n",
    "        i = new_indices[0][ex]\n",
    "        j = new_indices[1][ex]\n",
    "        o[i-1:i+2, j-1:j+2] += 1\n",
    "\n",
    "    o[indices] = 0\n",
    "    new_exploded = np.where(o > 9)\n",
    "    new_flashed = len(new_exploded[0])\n",
    "    new_total_indices = (np.concatenate((indices[0], new_exploded[0])), np.concatenate((indices[1], new_exploded[1])))\n",
    "    return o, new_total_indices, new_exploded, new_flashed\n"
   ],
   "metadata": {
    "collapsed": false,
    "pycharm": {
     "name": "#%%\n"
    }
   }
  },
  {
   "cell_type": "code",
   "execution_count": 42,
   "outputs": [
    {
     "name": "stdout",
     "output_type": "stream",
     "text": [
      "367\n",
      "377\n",
      "387\n",
      "397\n",
      "407\n",
      "417\n",
      "427\n",
      "437\n",
      "447\n",
      "457\n",
      "467\n",
      "477\n",
      "487\n",
      "497\n",
      "507\n",
      "517\n",
      "527\n",
      "537\n",
      "547\n",
      "557\n",
      "567\n",
      "577\n",
      "587\n",
      "597\n",
      "607\n",
      "617\n",
      "627\n",
      "637\n",
      "647\n",
      "657\n",
      "667\n",
      "677\n",
      "687\n",
      "697\n",
      "707\n",
      "717\n",
      "727\n",
      "737\n",
      "747\n",
      "757\n",
      "767\n",
      "777\n",
      "787\n",
      "797\n",
      "807\n",
      "817\n",
      "827\n",
      "837\n",
      "847\n",
      "857\n",
      "867\n",
      "877\n",
      "887\n",
      "897\n",
      "907\n",
      "917\n",
      "927\n",
      "937\n",
      "947\n",
      "957\n",
      "967\n",
      "977\n",
      "987\n",
      "997\n"
     ]
    },
    {
     "data": {
      "text/plain": "12056"
     },
     "execution_count": 42,
     "metadata": {},
     "output_type": "execute_result"
    }
   ],
   "source": [
    "c_octopus = np.pad(octopus, 1, constant_values=-100000)\n",
    "\n",
    "steps = 1000\n",
    "total_flashes = 0\n",
    "\n",
    "for step in range(steps):\n",
    "    c_octopus += 1\n",
    "    flashed_idx = np.where(c_octopus > 9)\n",
    "    flashed = len(flashed_idx[0])\n",
    "\n",
    "    total_flashes += flashed\n",
    "    new_flashed_idx = flashed_idx\n",
    "\n",
    "    while flashed != 0:\n",
    "        c_octopus, flashed_idx, new_flashed_idx, flashed = explode(flashed_idx, new_flashed_idx, c_octopus)\n",
    "        total_flashes += flashed\n",
    "\n",
    "    c_octopus[flashed_idx] = 0\n",
    "    if len(flashed_idx[0]) == 100:\n",
    "        print(step)\n",
    "\n",
    "total_flashes"
   ],
   "metadata": {
    "collapsed": false,
    "pycharm": {
     "name": "#%%\n"
    }
   }
  },
  {
   "cell_type": "code",
   "execution_count": 14,
   "outputs": [
    {
     "data": {
      "text/plain": "array([[1, 1, 1],\n       [1, 2, 1],\n       [1, 1, 1]])"
     },
     "execution_count": 14,
     "metadata": {},
     "output_type": "execute_result"
    }
   ],
   "source": [
    "test = np.array([[0, 0, 0,0,0],\n",
    "                [0, 1, 1,1,0],\n",
    "                [0, 1, 2,1,0],\n",
    "                [0, 1, 1,1,0],\n",
    "                [0, 0, 0,0,0]])\n",
    "\n",
    "test[1:-1, 1:-1]"
   ],
   "metadata": {
    "collapsed": false,
    "pycharm": {
     "name": "#%%\n"
    }
   }
  }
 ],
 "metadata": {
  "kernelspec": {
   "name": "pycharm-73773954",
   "language": "python",
   "display_name": "PyCharm (Lab on topic 03-03 - Usage of several classifiers-20211103)"
  },
  "language_info": {
   "codemirror_mode": {
    "name": "ipython",
    "version": 2
   },
   "file_extension": ".py",
   "mimetype": "text/x-python",
   "name": "python",
   "nbconvert_exporter": "python",
   "pygments_lexer": "ipython2",
   "version": "2.7.6"
  }
 },
 "nbformat": 4,
 "nbformat_minor": 0
}