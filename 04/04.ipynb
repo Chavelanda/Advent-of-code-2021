{
 "cells": [
  {
   "cell_type": "code",
   "execution_count": 1,
   "outputs": [],
   "source": [
    "import pandas as pd\n",
    "import numpy as np"
   ],
   "metadata": {
    "collapsed": false,
    "pycharm": {
     "name": "#%%\n"
    }
   }
  },
  {
   "cell_type": "code",
   "execution_count": 26,
   "outputs": [
    {
     "data": {
      "text/plain": "array([15, 61, 32, 33, 87, 17, 56, 73, 27, 83,  0, 18, 43,  8, 86, 37, 40,\n        6, 93, 25, 14, 68, 64, 57, 39, 46, 55, 13, 21, 72, 51, 81, 78, 79,\n       52, 65, 36, 92, 97, 28,  9, 24, 22, 69, 70, 42,  3,  4, 63, 50, 91,\n       16, 41, 94, 77, 85, 49, 12, 76, 67, 11, 62, 99, 54, 95,  1, 74, 34,\n       88, 89, 82, 48, 84, 98, 58, 44,  5, 53,  7, 19, 29, 30, 35, 26, 31,\n       10, 60, 59, 80, 71, 45, 38, 20, 66, 47,  2, 23, 96, 90, 75])"
     },
     "execution_count": 26,
     "metadata": {},
     "output_type": "execute_result"
    }
   ],
   "source": [
    "bingo = np.loadtxt('input.txt', delimiter=\",\", dtype=np.int_, max_rows=1)\n",
    "bingo\n"
   ],
   "metadata": {
    "collapsed": false,
    "pycharm": {
     "name": "#%%\n"
    }
   }
  },
  {
   "cell_type": "code",
   "execution_count": 79,
   "outputs": [
    {
     "name": "stderr",
     "output_type": "stream",
     "text": [
      "C:\\Users\\giach\\anaconda3\\envs\\ml\\lib\\site-packages\\pandas\\util\\_decorators.py:311: ParserWarning: Falling back to the 'python' engine because the 'c' engine does not support regex separators (separators > 1 char and different from '\\s+' are interpreted as regex); you can avoid this warning by specifying engine='python'.\n",
      "  return func(*args, **kwargs)\n"
     ]
    },
    {
     "data": {
      "text/plain": "array([[[26, 68,  3, 95, 59],\n        [40, 88, 50, 22, 48],\n        [75, 67,  8, 64,  6],\n        [29,  2, 73, 78,  5],\n        [49, 25, 80, 89, 96]],\n\n       [[57, 26, 21, 56, 70],\n        [38, 48, 78, 40, 54],\n        [82, 71, 22, 24,  4],\n        [16,  9, 65, 42, 79],\n        [43, 94, 39, 12, 67]],\n\n       [[70, 97, 26, 39, 22],\n        [65, 11, 69,  6, 93],\n        [71, 74, 72, 57, 59],\n        [61, 21, 89, 86, 17],\n        [66, 15, 94, 79, 85]],\n\n       ...,\n\n       [[ 3, 68, 80, 19, 59],\n        [41,  6, 92, 58, 28],\n        [94, 57, 81,  5, 71],\n        [90, 54,  9,  8, 14],\n        [32, 96, 30, 37, 10]],\n\n       [[15, 16, 14, 10, 52],\n        [51, 26, 54, 24, 84],\n        [45, 90, 28, 36, 96],\n        [56, 70, 86, 94, 32],\n        [67, 81, 13, 29, 27]],\n\n       [[67, 30, 89, 43,  3],\n        [86, 10, 38, 90, 77],\n        [70, 78, 97, 94, 33],\n        [29,  8, 85, 69, 56],\n        [40, 80, 47, 12, 17]]], dtype=int64)"
     },
     "execution_count": 79,
     "metadata": {},
     "output_type": "execute_result"
    }
   ],
   "source": [
    "boards = pd.read_csv('input.txt', sep=\" +\", lineterminator='\\n', header=None, skiprows=2).to_numpy()\n",
    "boards = boards.reshape((100, 5, 5))\n",
    "boards"
   ],
   "metadata": {
    "collapsed": false,
    "pycharm": {
     "name": "#%%\n"
    }
   }
  },
  {
   "cell_type": "code",
   "execution_count": 80,
   "outputs": [
    {
     "data": {
      "text/plain": "array([[-1, 69,  3, 45, 94],\n       [-1, 90, -1, 95, 48],\n       [-1,  9,  2, 74, 59],\n       [-1, 46, -1, 98, -1],\n       [-1, -1, 24, 31, 72]], dtype=int64)"
     },
     "execution_count": 80,
     "metadata": {},
     "output_type": "execute_result"
    }
   ],
   "source": [
    "winner_number, winner_idx = None, None\n",
    "\n",
    "copy_boards = np.copy(boards)\n",
    "\n",
    "for number in bingo:\n",
    "    indices = np.where(copy_boards == number)\n",
    "    copy_boards[indices] = -1\n",
    "    column_sums = np.sum(copy_boards, axis=1)\n",
    "    row_sums = np.sum(copy_boards, axis=2)\n",
    "    row_winner = np.where(row_sums == -5)\n",
    "    column_winner = np.where(column_sums == -5)\n",
    "\n",
    "    if len(row_winner[0]) != 0:\n",
    "        winner_idx = row_winner[0][0]\n",
    "        winner_number = number\n",
    "        break\n",
    "    elif len(column_winner[0]) != 0:\n",
    "        winner_idx = column_winner[0][0]\n",
    "        winner_number = number\n",
    "        break\n",
    "\n",
    "winner = copy_boards[winner_idx, :, :]\n",
    "winner"
   ],
   "metadata": {
    "collapsed": false,
    "pycharm": {
     "name": "#%%\n"
    }
   }
  },
  {
   "cell_type": "code",
   "execution_count": 81,
   "outputs": [
    {
     "data": {
      "text/plain": "58412"
     },
     "execution_count": 81,
     "metadata": {},
     "output_type": "execute_result"
    }
   ],
   "source": [
    "winner[winner==-1] = 0\n",
    "winner_sum = np.sum(winner)\n",
    "winner_sum*winner_number"
   ],
   "metadata": {
    "collapsed": false,
    "pycharm": {
     "name": "#%%\n"
    }
   }
  },
  {
   "cell_type": "code",
   "execution_count": 92,
   "outputs": [
    {
     "data": {
      "text/plain": "array([[-1, -1, -1, -1, -1],\n       [80, -1, -1, -1, -1],\n       [-1, -1, -1, 45, -1],\n       [-1,  2, -1, -1, -1],\n       [20, -1, -1, -1, 23]], dtype=int64)"
     },
     "execution_count": 92,
     "metadata": {},
     "output_type": "execute_result"
    }
   ],
   "source": [
    "loser_number = None\n",
    "copy_boards = np.copy(boards)\n",
    "\n",
    "for number in bingo:\n",
    "    indices = np.where(copy_boards == number)\n",
    "    copy_boards[indices] = -1\n",
    "    column_sums = np.sum(copy_boards, axis=1)\n",
    "    row_sums = np.sum(copy_boards, axis=2)\n",
    "    row_winner = np.where(row_sums == -5)\n",
    "    column_winner = np.where(column_sums == -5)\n",
    "\n",
    "    if copy_boards.shape[0] != 1:\n",
    "        winner_idx = np.concatenate((row_winner[0], column_winner[0]))\n",
    "        copy_boards = np.delete(copy_boards, winner_idx, axis=0)\n",
    "    elif len(row_winner[0]) != 0 or len(column_winner[0]) != 0:\n",
    "            loser_number = number\n",
    "            break\n",
    "\n",
    "loser = copy_boards[0, :, :]\n",
    "loser"
   ],
   "metadata": {
    "collapsed": false,
    "pycharm": {
     "name": "#%%\n"
    }
   }
  },
  {
   "cell_type": "code",
   "execution_count": 93,
   "outputs": [
    {
     "data": {
      "text/plain": "10030"
     },
     "execution_count": 93,
     "metadata": {},
     "output_type": "execute_result"
    }
   ],
   "source": [
    "loser[loser==-1] = 0\n",
    "loser_sum = np.sum(loser)\n",
    "loser_sum*loser_number"
   ],
   "metadata": {
    "collapsed": false,
    "pycharm": {
     "name": "#%%\n"
    }
   }
  }
 ],
 "metadata": {
  "kernelspec": {
   "name": "pycharm-73773954",
   "language": "python",
   "display_name": "PyCharm (Lab on topic 03-03 - Usage of several classifiers-20211103)"
  },
  "language_info": {
   "codemirror_mode": {
    "name": "ipython",
    "version": 2
   },
   "file_extension": ".py",
   "mimetype": "text/x-python",
   "name": "python",
   "nbconvert_exporter": "python",
   "pygments_lexer": "ipython2",
   "version": "2.7.6"
  }
 },
 "nbformat": 4,
 "nbformat_minor": 0
}