{
 "cells": [
  {
   "cell_type": "code",
   "execution_count": 1,
   "metadata": {
    "collapsed": true
   },
   "outputs": [],
   "source": [
    "import numpy as np"
   ]
  },
  {
   "cell_type": "code",
   "execution_count": 19,
   "outputs": [
    {
     "data": {
      "text/plain": "(94,)"
     },
     "execution_count": 19,
     "metadata": {},
     "output_type": "execute_result"
    }
   ],
   "source": [
    "lines = np.loadtxt('input.txt', dtype=str)\n",
    "lines.shape"
   ],
   "metadata": {
    "collapsed": false,
    "pycharm": {
     "name": "#%%\n"
    }
   }
  },
  {
   "cell_type": "code",
   "execution_count": 11,
   "outputs": [],
   "source": [
    "lines = ['[({(<(())[]>[[{[]{<()<>>', '[(()[<>])]({[<{<<[]>>(', '{([(<{}[<>[]}>{[]{[(<()>', '(((({<>}<{<{<>}{[]{[]{}', '[[<[([]))<([[{}[[()]]]', '[{[{({}]{}}([{[{{{}}([]', '{<[[]]>}<{[{[{[]{()[[[]', '[<(<(<(<{}))><([]([]()', '<{([([[(<>()){}]>(<<{{', '<{([{{}}[<[[[<>{}]]]>[]]']"
   ],
   "metadata": {
    "collapsed": false,
    "pycharm": {
     "name": "#%%\n"
    }
   }
  },
  {
   "cell_type": "code",
   "execution_count": 36,
   "outputs": [
    {
     "data": {
      "text/plain": "344193"
     },
     "execution_count": 36,
     "metadata": {},
     "output_type": "execute_result"
    }
   ],
   "source": [
    "correspondence = {'(': ')', '[': ']', '{': '}', '<': '>'}\n",
    "rule_points = {')': 3, ']': 57, '}': 1197, '>': 25137}\n",
    "points = 0\n",
    "corrupted = ([],)\n",
    "for idx, line in enumerate(lines):\n",
    "    stack = []\n",
    "    for l in line:\n",
    "        if l in correspondence:\n",
    "            stack.append(correspondence[l])\n",
    "        elif l == stack.pop():\n",
    "            pass\n",
    "        else:\n",
    "            corrupted[0].append(idx)\n",
    "            points += rule_points[l]\n",
    "            break\n",
    "\n",
    "points"
   ],
   "metadata": {
    "collapsed": false,
    "pycharm": {
     "name": "#%%\n"
    }
   }
  },
  {
   "cell_type": "code",
   "execution_count": 37,
   "outputs": [
    {
     "data": {
      "text/plain": "(47,)"
     },
     "execution_count": 37,
     "metadata": {},
     "output_type": "execute_result"
    }
   ],
   "source": [
    "nc_lines = np.delete(lines, corrupted)\n",
    "nc_lines.shape"
   ],
   "metadata": {
    "collapsed": false,
    "pycharm": {
     "name": "#%%\n"
    }
   }
  },
  {
   "cell_type": "code",
   "execution_count": 40,
   "outputs": [
    {
     "data": {
      "text/plain": "array([ 3244733999, 26819789998, 11403399973,       98281,   164713324,\n       26453092806,  1820136488,  1688571099,  1091692446,  4081870849,\n       20628640218,  5199965542,   240760537, 15355414531,   418507747,\n        4313883419,   622576089,  6038640324,     3397908,  3241238967,\n        5808067723,  4213977421,     3340481, 30370180498,  3237864356,\n        1120233493,  2819324658,  9400882373,   124515231,  1217888656,\n        1157129537, 16677336421, 13792888673, 29673590233,  3354178911,\n        4621624593,   181129746,    41952734,   677633441, 16961430316,\n        3355436872,    63614124,  2165624788,      186241,  3499181069,\n         320961219,  4050102942], dtype=int64)"
     },
     "execution_count": 40,
     "metadata": {},
     "output_type": "execute_result"
    }
   ],
   "source": [
    "scores = np.zeros((nc_lines.shape[0],), dtype=np.int64)\n",
    "rule_points = {')': 1, ']': 2, '}': 3, '>': 4}\n",
    "\n",
    "for idx, line in enumerate(nc_lines):\n",
    "    stack = []\n",
    "    points = 0\n",
    "    for l in line:\n",
    "        if l in correspondence:\n",
    "            stack.append(correspondence[l])\n",
    "        else:\n",
    "            stack.pop()\n",
    "    for el in reversed(stack):\n",
    "        points *= 5\n",
    "        points += rule_points[el]\n",
    "    scores[idx] = points\n",
    "\n",
    "scores"
   ],
   "metadata": {
    "collapsed": false,
    "pycharm": {
     "name": "#%%\n"
    }
   }
  },
  {
   "cell_type": "code",
   "execution_count": 41,
   "outputs": [
    {
     "data": {
      "text/plain": "array([      98281,      186241,     3340481,     3397908,    41952734,\n          63614124,   124515231,   164713324,   181129746,   240760537,\n         320961219,   418507747,   622576089,   677633441,  1091692446,\n        1120233493,  1157129537,  1217888656,  1688571099,  1820136488,\n        2165624788,  2819324658,  3237864356,  3241238967,  3244733999,\n        3354178911,  3355436872,  3499181069,  4050102942,  4081870849,\n        4213977421,  4313883419,  4621624593,  5199965542,  5808067723,\n        6038640324,  9400882373, 11403399973, 13792888673, 15355414531,\n       16677336421, 16961430316, 20628640218, 26453092806, 26819789998,\n       29673590233, 30370180498], dtype=int64)"
     },
     "execution_count": 41,
     "metadata": {},
     "output_type": "execute_result"
    }
   ],
   "source": [
    "sorted_scores = np.sort(scores)\n",
    "sorted_scores"
   ],
   "metadata": {
    "collapsed": false,
    "pycharm": {
     "name": "#%%\n"
    }
   }
  },
  {
   "cell_type": "code",
   "execution_count": 42,
   "outputs": [
    {
     "data": {
      "text/plain": "3241238967.0"
     },
     "execution_count": 42,
     "metadata": {},
     "output_type": "execute_result"
    }
   ],
   "source": [
    "median = np.median(sorted_scores)\n",
    "median\n"
   ],
   "metadata": {
    "collapsed": false,
    "pycharm": {
     "name": "#%%\n"
    }
   }
  }
 ],
 "metadata": {
  "kernelspec": {
   "name": "pycharm-73773954",
   "language": "python",
   "display_name": "PyCharm (Lab on topic 03-03 - Usage of several classifiers-20211103)"
  },
  "language_info": {
   "codemirror_mode": {
    "name": "ipython",
    "version": 2
   },
   "file_extension": ".py",
   "mimetype": "text/x-python",
   "name": "python",
   "nbconvert_exporter": "python",
   "pygments_lexer": "ipython2",
   "version": "2.7.6"
  }
 },
 "nbformat": 4,
 "nbformat_minor": 0
}