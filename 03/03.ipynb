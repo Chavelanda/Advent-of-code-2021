{
 "cells": [
  {
   "cell_type": "code",
   "execution_count": 5,
   "metadata": {
    "collapsed": true
   },
   "outputs": [],
   "source": [
    "import pandas as pd\n",
    "import numpy as np"
   ]
  },
  {
   "cell_type": "code",
   "execution_count": 6,
   "outputs": [],
   "source": [
    "data = pd.read_csv('input.txt', sep=\" \", header=None, dtype=str)\n",
    "data[0] = data[0].apply(lambda x: np.array(list(x)))\n",
    "data = data[0].apply(pd.Series)\n",
    "data_num = data.to_numpy()"
   ],
   "metadata": {
    "collapsed": false,
    "pycharm": {
     "name": "#%%\n"
    }
   }
  },
  {
   "cell_type": "code",
   "execution_count": 7,
   "outputs": [
    {
     "name": "stdout",
     "output_type": "stream",
     "text": [
      "1997414\n"
     ]
    }
   ],
   "source": [
    "gamma = \"\"\n",
    "epsilon = \"\"\n",
    "for col in range(data_num.shape[1]):\n",
    "    val = np.argmax(np.bincount(data_num[:, col].astype(int)))\n",
    "    gamma += str(val)\n",
    "    epsilon += str(1 - val)\n",
    "\n",
    "print(int(gamma, 2)*int(epsilon, 2))"
   ],
   "metadata": {
    "collapsed": false,
    "pycharm": {
     "name": "#%%\n"
    }
   }
  },
  {
   "cell_type": "code",
   "execution_count": 43,
   "outputs": [
    {
     "name": "stdout",
     "output_type": "stream",
     "text": [
      "1032597\n"
     ]
    }
   ],
   "source": [
    "oxygen_data = np.copy(data_num).astype(int)\n",
    "for col in range(data_num.shape[1]):\n",
    "    counts = np.bincount(oxygen_data[:, col].astype(int))\n",
    "    if len(counts) == 2:\n",
    "        val = 1 if counts[1] >= counts[0] else 0\n",
    "    else:\n",
    "        val = 0\n",
    "    idx = np.where(oxygen_data[:, col] == val)\n",
    "    oxygen_data = oxygen_data[idx]\n",
    "    if oxygen_data.shape[0] == 1:\n",
    "        break\n",
    "\n",
    "ox = \"\"\n",
    "for el in oxygen_data[0]:\n",
    "    ox += str(el)\n",
    "\n",
    "ox = int(ox, 2)\n",
    "\n",
    "scrubber_data = np.copy(data_num).astype(int)\n",
    "for col in range(data_num.shape[1]):\n",
    "    counts = np.bincount(scrubber_data[:, col].astype(int))\n",
    "    if len(counts) == 2:\n",
    "        val = 1 if counts[1] < counts[0] else 0\n",
    "    else:\n",
    "        val = 0\n",
    "    idx = np.where(scrubber_data[:, col] == val)\n",
    "    scrubber_data = scrubber_data[idx]\n",
    "    if scrubber_data.shape[0] == 1:\n",
    "        break\n",
    "sc = \"\"\n",
    "for el in scrubber_data[0]:\n",
    "    sc += str(el)\n",
    "\n",
    "sc = int(sc, 2)\n",
    "\n",
    "print(sc*ox)\n"
   ],
   "metadata": {
    "collapsed": false,
    "pycharm": {
     "name": "#%%\n"
    }
   }
  }
 ],
 "metadata": {
  "kernelspec": {
   "name": "pycharm-73773954",
   "language": "python",
   "display_name": "PyCharm (Lab on topic 03-03 - Usage of several classifiers-20211103)"
  },
  "language_info": {
   "codemirror_mode": {
    "name": "ipython",
    "version": 2
   },
   "file_extension": ".py",
   "mimetype": "text/x-python",
   "name": "python",
   "nbconvert_exporter": "python",
   "pygments_lexer": "ipython2",
   "version": "2.7.6"
  }
 },
 "nbformat": 4,
 "nbformat_minor": 0
}