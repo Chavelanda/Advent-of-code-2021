{
 "cells": [
  {
   "cell_type": "code",
   "execution_count": 2,
   "metadata": {
    "collapsed": true
   },
   "outputs": [],
   "source": [
    "import pandas as pd\n",
    "import numpy as np"
   ]
  },
  {
   "cell_type": "code",
   "execution_count": 3,
   "outputs": [
    {
     "name": "stderr",
     "output_type": "stream",
     "text": [
      "C:\\Users\\giach\\anaconda3\\envs\\ml\\lib\\site-packages\\pandas\\util\\_decorators.py:311: ParserWarning: Falling back to the 'python' engine because the 'c' engine does not support regex separators (separators > 1 char and different from '\\s+' are interpreted as regex); you can avoid this warning by specifying engine='python'.\n",
      "  return func(*args, **kwargs)\n"
     ]
    },
    {
     "data": {
      "text/plain": "        0       1        2       3       4        5        6        7   \\\n0  bcedagf   ebadf    gcdfe  gfcead  bcedgf    dfeca       ac     dgca   \n1      gab  cebfag     bdfg   gaefd      bg    debga   gadbef  dbafgce   \n2   feabcg    eacd    cdbeg  cfgbda   dgefb  cbgefad      ceb    dbagc   \n3    acdbf    ebfa   fagdec      ef   bcged   edcfba  gcedafb   facgdb   \n4      bcg  eacfbg  daebgfc   cfabd  gbfaed   degfcb       gc     cdeg   \n\n       8       9        10      11       12       13  \n0     ace  cafbge  ecfdbag   gecfd    feadb  degacbf  \n1  gdafec   cadbe   befdga  fgdaec   gdaecf  bdecgaf  \n2      ce  gadbec       ec     ceb     aecd     daec  \n3   ebcfd     ecf       fe     fce   gfcdab       fe  \n4   cbdfg   egfdb  fbgcaed   edbfg  aedgbcf       cg  ",
      "text/html": "<div>\n<style scoped>\n    .dataframe tbody tr th:only-of-type {\n        vertical-align: middle;\n    }\n\n    .dataframe tbody tr th {\n        vertical-align: top;\n    }\n\n    .dataframe thead th {\n        text-align: right;\n    }\n</style>\n<table border=\"1\" class=\"dataframe\">\n  <thead>\n    <tr style=\"text-align: right;\">\n      <th></th>\n      <th>0</th>\n      <th>1</th>\n      <th>2</th>\n      <th>3</th>\n      <th>4</th>\n      <th>5</th>\n      <th>6</th>\n      <th>7</th>\n      <th>8</th>\n      <th>9</th>\n      <th>10</th>\n      <th>11</th>\n      <th>12</th>\n      <th>13</th>\n    </tr>\n  </thead>\n  <tbody>\n    <tr>\n      <th>0</th>\n      <td>bcedagf</td>\n      <td>ebadf</td>\n      <td>gcdfe</td>\n      <td>gfcead</td>\n      <td>bcedgf</td>\n      <td>dfeca</td>\n      <td>ac</td>\n      <td>dgca</td>\n      <td>ace</td>\n      <td>cafbge</td>\n      <td>ecfdbag</td>\n      <td>gecfd</td>\n      <td>feadb</td>\n      <td>degacbf</td>\n    </tr>\n    <tr>\n      <th>1</th>\n      <td>gab</td>\n      <td>cebfag</td>\n      <td>bdfg</td>\n      <td>gaefd</td>\n      <td>bg</td>\n      <td>debga</td>\n      <td>gadbef</td>\n      <td>dbafgce</td>\n      <td>gdafec</td>\n      <td>cadbe</td>\n      <td>befdga</td>\n      <td>fgdaec</td>\n      <td>gdaecf</td>\n      <td>bdecgaf</td>\n    </tr>\n    <tr>\n      <th>2</th>\n      <td>feabcg</td>\n      <td>eacd</td>\n      <td>cdbeg</td>\n      <td>cfgbda</td>\n      <td>dgefb</td>\n      <td>cbgefad</td>\n      <td>ceb</td>\n      <td>dbagc</td>\n      <td>ce</td>\n      <td>gadbec</td>\n      <td>ec</td>\n      <td>ceb</td>\n      <td>aecd</td>\n      <td>daec</td>\n    </tr>\n    <tr>\n      <th>3</th>\n      <td>acdbf</td>\n      <td>ebfa</td>\n      <td>fagdec</td>\n      <td>ef</td>\n      <td>bcged</td>\n      <td>edcfba</td>\n      <td>gcedafb</td>\n      <td>facgdb</td>\n      <td>ebcfd</td>\n      <td>ecf</td>\n      <td>fe</td>\n      <td>fce</td>\n      <td>gfcdab</td>\n      <td>fe</td>\n    </tr>\n    <tr>\n      <th>4</th>\n      <td>bcg</td>\n      <td>eacfbg</td>\n      <td>daebgfc</td>\n      <td>cfabd</td>\n      <td>gbfaed</td>\n      <td>degfcb</td>\n      <td>gc</td>\n      <td>cdeg</td>\n      <td>cbdfg</td>\n      <td>egfdb</td>\n      <td>fbgcaed</td>\n      <td>edbfg</td>\n      <td>aedgbcf</td>\n      <td>cg</td>\n    </tr>\n  </tbody>\n</table>\n</div>"
     },
     "execution_count": 3,
     "metadata": {},
     "output_type": "execute_result"
    }
   ],
   "source": [
    "entries = pd.read_csv('input.txt', sep=\" \\| | \", lineterminator='\\n', header=None)\n",
    "entries.head()"
   ],
   "metadata": {
    "collapsed": false,
    "pycharm": {
     "name": "#%%\n"
    }
   }
  },
  {
   "cell_type": "code",
   "execution_count": 4,
   "outputs": [
    {
     "data": {
      "text/plain": "(200, 14)"
     },
     "execution_count": 4,
     "metadata": {},
     "output_type": "execute_result"
    }
   ],
   "source": [
    "numpy_entries = entries.to_numpy()\n",
    "numpy_entries.shape"
   ],
   "metadata": {
    "collapsed": false,
    "pycharm": {
     "name": "#%%\n"
    }
   }
  },
  {
   "cell_type": "code",
   "execution_count": 6,
   "outputs": [
    {
     "data": {
      "text/plain": "(800,)"
     },
     "execution_count": 6,
     "metadata": {},
     "output_type": "execute_result"
    }
   ],
   "source": [
    "outputs = numpy_entries[:, 10:]\n",
    "outputs = np.reshape(outputs, (-1,))\n",
    "outputs.shape"
   ],
   "metadata": {
    "collapsed": false,
    "pycharm": {
     "name": "#%%\n"
    }
   }
  },
  {
   "cell_type": "code",
   "execution_count": 8,
   "outputs": [
    {
     "data": {
      "text/plain": "504"
     },
     "execution_count": 8,
     "metadata": {},
     "output_type": "execute_result"
    }
   ],
   "source": [
    "counter = 0\n",
    "\n",
    "for number in outputs:\n",
    "    l = len(number)\n",
    "    if l == 2 or l == 3 or l == 4 or l == 7:\n",
    "        counter += 1\n",
    "\n",
    "counter"
   ],
   "metadata": {
    "collapsed": false,
    "pycharm": {
     "name": "#%%\n"
    }
   }
  },
  {
   "cell_type": "code",
   "execution_count": 16,
   "outputs": [],
   "source": [
    "def retrieve_code(en, length):\n",
    "    for n in en:\n",
    "        if len(n) == length:\n",
    "            return n\n",
    "\n",
    "def decode(en):\n",
    "    numbers = [0, 0, 0, 0]\n",
    "    for i, out in enumerate(en[10:]):\n",
    "        seg = len(out)\n",
    "        if seg == 2:\n",
    "            numbers[i] = 1\n",
    "        elif seg == 3:\n",
    "            numbers[i] = 7\n",
    "        elif seg == 4:\n",
    "            numbers[i] = 4\n",
    "        elif seg == 5:\n",
    "            code1 = retrieve_code(en, 2)\n",
    "            code4 = retrieve_code(en, 4)\n",
    "            digits_in_4_not_in_2 = list(set(code4)-set(code1))\n",
    "            if code1[0] in out and code1[1] in out:\n",
    "                numbers[i] = 3\n",
    "            elif digits_in_4_not_in_2[0] in out and digits_in_4_not_in_2[1] in out:\n",
    "                numbers[i] = 5\n",
    "            else:\n",
    "                numbers[i] = 2\n",
    "        elif seg == 6:\n",
    "            code1 = retrieve_code(en, 2)\n",
    "            code4 = retrieve_code(en, 4)\n",
    "            if code4[0] in out and code4[1] in out and code4[2] in out and code4[3] in out:\n",
    "                numbers[i] = 9\n",
    "            elif code1[0] in out and code1[1] in out:\n",
    "                numbers[i] = 0\n",
    "            else:\n",
    "                numbers[i] = 6\n",
    "        elif seg == 7:\n",
    "            numbers[i] = 8\n",
    "        else:\n",
    "            print('OOOOOOOOOOO MALE MALE MALE')\n",
    "\n",
    "    return numbers[0] * 1000 + numbers[1] * 100 + numbers[2] * 10 + numbers[3]"
   ],
   "metadata": {
    "collapsed": false,
    "pycharm": {
     "name": "#%%\n"
    }
   }
  },
  {
   "cell_type": "code",
   "execution_count": 17,
   "outputs": [],
   "source": [
    "decoded_outputs = np.zeros((numpy_entries.shape[0]))\n",
    "\n",
    "for idx, entry in enumerate(numpy_entries):\n",
    "    decoded_outputs[idx] = decode(entry)"
   ],
   "metadata": {
    "collapsed": false,
    "pycharm": {
     "name": "#%%\n"
    }
   }
  },
  {
   "cell_type": "code",
   "execution_count": 18,
   "outputs": [
    {
     "data": {
      "text/plain": "1073431.0"
     },
     "execution_count": 18,
     "metadata": {},
     "output_type": "execute_result"
    }
   ],
   "source": [
    "np.sum(decoded_outputs)"
   ],
   "metadata": {
    "collapsed": false,
    "pycharm": {
     "name": "#%%\n"
    }
   }
  },
  {
   "cell_type": "code",
   "execution_count": 15,
   "outputs": [
    {
     "data": {
      "text/plain": "['d', 'b']"
     },
     "execution_count": 15,
     "metadata": {},
     "output_type": "execute_result"
    }
   ],
   "source": [
    "t1 = 'abcd'\n",
    "t2 = 'ac'\n",
    "\n",
    "list(set(t1)-set(t2))"
   ],
   "metadata": {
    "collapsed": false,
    "pycharm": {
     "name": "#%%\n"
    }
   }
  }
 ],
 "metadata": {
  "kernelspec": {
   "name": "pycharm-73773954",
   "language": "python",
   "display_name": "PyCharm (Lab on topic 03-03 - Usage of several classifiers-20211103)"
  },
  "language_info": {
   "codemirror_mode": {
    "name": "ipython",
    "version": 2
   },
   "file_extension": ".py",
   "mimetype": "text/x-python",
   "name": "python",
   "nbconvert_exporter": "python",
   "pygments_lexer": "ipython2",
   "version": "2.7.6"
  }
 },
 "nbformat": 4,
 "nbformat_minor": 0
}